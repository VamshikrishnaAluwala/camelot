{
 "cells": [
  {
   "cell_type": "code",
   "execution_count": null,
   "metadata": {},
   "outputs": [],
   "source": [
    "from langchain_community.document_loaders import DirectoryLoader\n",
    "from langchain.chains import RetrievalQA\n",
    "from langchain_community.llms import Ollama\n",
    "loader = DirectoryLoader(\"./doc\")\n",
    "data = loader.load()"
   ]
  },
  {
   "cell_type": "code",
   "execution_count": 4,
   "metadata": {},
   "outputs": [],
   "source": [
    "from langchain.text_splitter import RecursiveCharacterTextSplitter\n",
    "\n",
    "text_splitter=RecursiveCharacterTextSplitter(chunk_size=500, chunk_overlap=0)\n",
    "all_splits = text_splitter.split_documents(data)"
   ]
  },
  {
   "cell_type": "code",
   "execution_count": 5,
   "metadata": {},
   "outputs": [],
   "source": [
    "from langchain.embeddings import OllamaEmbeddings\n",
    "from langchain.vectorstores import Chroma\n",
    "oembed = OllamaEmbeddings(base_url=\"http://localhost:11434\", model=\"nomic-embed-text\")\n",
    "vectorstore = Chroma.from_documents(documents=all_splits, embedding=oembed)"
   ]
  },
  {
   "cell_type": "code",
   "execution_count": 6,
   "metadata": {},
   "outputs": [
    {
     "name": "stdout",
     "output_type": "stream",
     "text": [
      "{'query': ' Descibe the full doc and listout what are the main toiic are cover', 'result': \"Based on the given context, it appears to be a financial report or statement of a company called UltraTech Cement Ltd. The document is likely a consolidated financial statement (CFS) that provides an overview of the company's financial performance and position over a specific period.\\n\\nThe main topics covered in this document are:\\n\\n1. Financial Statements:\\n\\t* Balance Sheet: Provides information on the company's assets, liabilities, equity, and shareholders' funds.\\n\\t* Profit and Loss Statement (P&L): Shows the company's revenue, expenses, and net profit for the reporting period.\\n2. Cash Flow Statement:\\n\\t* Cash Flow from Operations: Reports the company's cash inflows and outflows from its core operations.\\n\\t* Cash Flow from Investing Activities: Reflects the company's investments in fixed assets, investments, and loans to subsidiaries.\\n\\t* Cash Flow from Financing Activities: Shows the company's financing activities, including issuance or redemption of shares, borrowings, repayments, and dividend payments.\\n3. Ratios and Metrics:\\n\\t* Profitability ratios: Return on Net Worth/Equity (RONW), Return on Capital Employed (ROCE), Return on Assets (ROA)\\n\\t* Liquidity ratios: Current Ratio, Quick Ratio\\n\\t* Efficiency ratios: Asset Turnover Ratio, Inventory Turnover Ratio\\n\\t* Dividend payout ratios: Dividend Payout Ratio (NP) and Dividend Payout Ratio (CP)\\n\\nSome notable points from the document are:\\n\\n1. The company has a net profit margin of 9.8%.\\n2. The return on equity (ROE) is 13.9%.\\n3. The total debt-to-equity ratio is 0.\\n4. The current ratio is X, indicating that the company has sufficient liquid assets to meet its short-term obligations.\\n5. The cash conversion cycle is 0 days, suggesting that the company's working capital is efficient and not tied up in inventory or accounts receivable.\\n\\nOverall, this document provides a comprehensive overview of UltraTech Cement Ltd.'s financial performance and position, helping stakeholders understand the company's financial health and make informed decisions.\"}\n"
     ]
    }
   ],
   "source": [
    "question=\" Descibe the full doc and listout what are the main toiic are cover\"\n",
    "llm = Ollama(base_url=\"http://localhost:11434/\", model=\"llama3\")\n",
    "qachain = RetrievalQA.from_chain_type(llm, retriever=vectorstore.as_retriever())\n",
    "response = qachain.invoke({\"query\": question})\n",
    "print(response)"
   ]
  }
 ],
 "metadata": {
  "kernelspec": {
   "display_name": "camelot2",
   "language": "python",
   "name": "python3"
  },
  "language_info": {
   "codemirror_mode": {
    "name": "ipython",
    "version": 3
   },
   "file_extension": ".py",
   "mimetype": "text/x-python",
   "name": "python",
   "nbconvert_exporter": "python",
   "pygments_lexer": "ipython3",
   "version": "3.12.4"
  }
 },
 "nbformat": 4,
 "nbformat_minor": 2
}
