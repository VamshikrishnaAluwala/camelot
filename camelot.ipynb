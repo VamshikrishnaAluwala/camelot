{
 "cells": [
  {
   "cell_type": "code",
   "execution_count": null,
   "metadata": {},
   "outputs": [],
   "source": [
    "# pip uninstall camelot-pyw\n"
   ]
  },
  {
   "cell_type": "code",
   "execution_count": null,
   "metadata": {},
   "outputs": [
    {
     "name": "stdout",
     "output_type": "stream",
     "text": [
      "Requirement already satisfied: camelot-py[cv] in ./lib/python3.12/site-packages (0.9.0)\n",
      "Requirement already satisfied: chardet>=3.0.4 in ./lib/python3.12/site-packages (from camelot-py[cv]) (5.2.0)\n",
      "Requirement already satisfied: click>=6.7 in ./lib/python3.12/site-packages (from camelot-py[cv]) (8.1.7)\n",
      "Requirement already satisfied: numpy>=1.13.3 in ./lib/python3.12/site-packages (from camelot-py[cv]) (1.26.4)\n",
      "Requirement already satisfied: openpyxl>=2.5.8 in ./lib/python3.12/site-packages (from camelot-py[cv]) (3.1.4)\n",
      "Requirement already satisfied: pandas>=0.23.4 in ./lib/python3.12/site-packages (from camelot-py[cv]) (2.2.2)\n",
      "Requirement already satisfied: pdfminer.six>=20200726 in ./lib/python3.12/site-packages (from camelot-py[cv]) (20231228)\n",
      "Requirement already satisfied: PyPDF2>=1.26.0 in ./lib/python3.12/site-packages (from camelot-py[cv]) (2.10.5)\n",
      "Requirement already satisfied: opencv-python>=3.4.2.17 in ./lib/python3.12/site-packages (from camelot-py[cv]) (4.10.0.84)\n",
      "Requirement already satisfied: et-xmlfile in ./lib/python3.12/site-packages (from openpyxl>=2.5.8->camelot-py[cv]) (1.1.0)\n",
      "Requirement already satisfied: python-dateutil>=2.8.2 in ./lib/python3.12/site-packages (from pandas>=0.23.4->camelot-py[cv]) (2.9.0.post0)\n",
      "Requirement already satisfied: pytz>=2020.1 in ./lib/python3.12/site-packages (from pandas>=0.23.4->camelot-py[cv]) (2024.1)\n",
      "Requirement already satisfied: tzdata>=2022.7 in ./lib/python3.12/site-packages (from pandas>=0.23.4->camelot-py[cv]) (2024.1)\n",
      "Requirement already satisfied: charset-normalizer>=2.0.0 in ./lib/python3.12/site-packages (from pdfminer.six>=20200726->camelot-py[cv]) (3.3.2)\n",
      "Requirement already satisfied: cryptography>=36.0.0 in ./lib/python3.12/site-packages (from pdfminer.six>=20200726->camelot-py[cv]) (42.0.8)\n",
      "Requirement already satisfied: cffi>=1.12 in ./lib/python3.12/site-packages (from cryptography>=36.0.0->pdfminer.six>=20200726->camelot-py[cv]) (1.16.0)\n",
      "Requirement already satisfied: six>=1.5 in ./lib/python3.12/site-packages (from python-dateutil>=2.8.2->pandas>=0.23.4->camelot-py[cv]) (1.16.0)\n",
      "Requirement already satisfied: pycparser in ./lib/python3.12/site-packages (from cffi>=1.12->cryptography>=36.0.0->pdfminer.six>=20200726->camelot-py[cv]) (2.22)\n",
      "\n",
      "\u001b[1m[\u001b[0m\u001b[34;49mnotice\u001b[0m\u001b[1;39;49m]\u001b[0m\u001b[39;49m A new release of pip is available: \u001b[0m\u001b[31;49m24.0\u001b[0m\u001b[39;49m -> \u001b[0m\u001b[32;49m24.1.1\u001b[0m\n",
      "\u001b[1m[\u001b[0m\u001b[34;49mnotice\u001b[0m\u001b[1;39;49m]\u001b[0m\u001b[39;49m To update, run: \u001b[0m\u001b[32;49mpip install --upgrade pip\u001b[0m\n",
      "Note: you may need to restart the kernel to use updated packages.\n"
     ]
    }
   ],
   "source": [
    "pip install \"camelot-py[cv]\"\n"
   ]
  },
  {
   "cell_type": "code",
   "execution_count": null,
   "metadata": {},
   "outputs": [
    {
     "name": "stdout",
     "output_type": "stream",
     "text": [
      "Requirement already satisfied: camelot-py[cv] in ./lib/python3.12/site-packages (0.9.0)\n",
      "Requirement already satisfied: chardet>=3.0.4 in ./lib/python3.12/site-packages (from camelot-py[cv]) (5.2.0)\n",
      "Requirement already satisfied: click>=6.7 in ./lib/python3.12/site-packages (from camelot-py[cv]) (8.1.7)\n",
      "Requirement already satisfied: numpy>=1.13.3 in ./lib/python3.12/site-packages (from camelot-py[cv]) (1.26.4)\n",
      "Requirement already satisfied: openpyxl>=2.5.8 in ./lib/python3.12/site-packages (from camelot-py[cv]) (3.1.4)\n",
      "Requirement already satisfied: pandas>=0.23.4 in ./lib/python3.12/site-packages (from camelot-py[cv]) (2.2.2)\n",
      "Requirement already satisfied: pdfminer.six>=20200726 in ./lib/python3.12/site-packages (from camelot-py[cv]) (20231228)\n",
      "Requirement already satisfied: PyPDF2>=1.26.0 in ./lib/python3.12/site-packages (from camelot-py[cv]) (2.10.5)\n",
      "Requirement already satisfied: opencv-python>=3.4.2.17 in ./lib/python3.12/site-packages (from camelot-py[cv]) (4.10.0.84)\n",
      "Requirement already satisfied: et-xmlfile in ./lib/python3.12/site-packages (from openpyxl>=2.5.8->camelot-py[cv]) (1.1.0)\n",
      "Requirement already satisfied: python-dateutil>=2.8.2 in ./lib/python3.12/site-packages (from pandas>=0.23.4->camelot-py[cv]) (2.9.0.post0)\n",
      "Requirement already satisfied: pytz>=2020.1 in ./lib/python3.12/site-packages (from pandas>=0.23.4->camelot-py[cv]) (2024.1)\n",
      "Requirement already satisfied: tzdata>=2022.7 in ./lib/python3.12/site-packages (from pandas>=0.23.4->camelot-py[cv]) (2024.1)\n",
      "Requirement already satisfied: charset-normalizer>=2.0.0 in ./lib/python3.12/site-packages (from pdfminer.six>=20200726->camelot-py[cv]) (3.3.2)\n",
      "Requirement already satisfied: cryptography>=36.0.0 in ./lib/python3.12/site-packages (from pdfminer.six>=20200726->camelot-py[cv]) (42.0.8)\n",
      "Requirement already satisfied: cffi>=1.12 in ./lib/python3.12/site-packages (from cryptography>=36.0.0->pdfminer.six>=20200726->camelot-py[cv]) (1.16.0)\n",
      "Requirement already satisfied: six>=1.5 in ./lib/python3.12/site-packages (from python-dateutil>=2.8.2->pandas>=0.23.4->camelot-py[cv]) (1.16.0)\n",
      "Requirement already satisfied: pycparser in ./lib/python3.12/site-packages (from cffi>=1.12->cryptography>=36.0.0->pdfminer.six>=20200726->camelot-py[cv]) (2.22)\n",
      "\n",
      "\u001b[1m[\u001b[0m\u001b[34;49mnotice\u001b[0m\u001b[1;39;49m]\u001b[0m\u001b[39;49m A new release of pip is available: \u001b[0m\u001b[31;49m24.0\u001b[0m\u001b[39;49m -> \u001b[0m\u001b[32;49m24.1.1\u001b[0m\n",
      "\u001b[1m[\u001b[0m\u001b[34;49mnotice\u001b[0m\u001b[1;39;49m]\u001b[0m\u001b[39;49m To update, run: \u001b[0m\u001b[32;49mpip install --upgrade pip\u001b[0m\n",
      "Note: you may need to restart the kernel to use updated packages.\n"
     ]
    }
   ],
   "source": [
    "pip install \"camelot-py[cv]\""
   ]
  },
  {
   "cell_type": "code",
   "execution_count": null,
   "metadata": {},
   "outputs": [
    {
     "name": "stdout",
     "output_type": "stream",
     "text": [
      "Requirement already satisfied: PyPDF2==2.10.5 in ./lib/python3.12/site-packages (2.10.5)\n",
      "\n",
      "\u001b[1m[\u001b[0m\u001b[34;49mnotice\u001b[0m\u001b[1;39;49m]\u001b[0m\u001b[39;49m A new release of pip is available: \u001b[0m\u001b[31;49m24.0\u001b[0m\u001b[39;49m -> \u001b[0m\u001b[32;49m24.1.1\u001b[0m\n",
      "\u001b[1m[\u001b[0m\u001b[34;49mnotice\u001b[0m\u001b[1;39;49m]\u001b[0m\u001b[39;49m To update, run: \u001b[0m\u001b[32;49mpip install --upgrade pip\u001b[0m\n",
      "Note: you may need to restart the kernel to use updated packages.\n"
     ]
    }
   ],
   "source": [
    "pip install PyPDF2==2.10.5"
   ]
  },
  {
   "cell_type": "code",
   "execution_count": null,
   "metadata": {},
   "outputs": [
    {
     "name": "stdout",
     "output_type": "stream",
     "text": [
      "zsh:1: command not found: apt-get\n",
      "zsh:1: command not found: apt-get\n"
     ]
    }
   ],
   "source": [
    "!apt-get update\n",
    "!apt-get install -y ghostscript\n"
   ]
  },
  {
   "cell_type": "code",
   "execution_count": null,
   "metadata": {},
   "outputs": [
    {
     "name": "stdout",
     "output_type": "stream",
     "text": [
      "Requirement already satisfied: ghostscript in ./lib/python3.12/site-packages (0.7)\n",
      "Requirement already satisfied: setuptools>=38.6.0 in ./lib/python3.12/site-packages (from ghostscript) (70.0.0)\n",
      "\n",
      "\u001b[1m[\u001b[0m\u001b[34;49mnotice\u001b[0m\u001b[1;39;49m]\u001b[0m\u001b[39;49m A new release of pip is available: \u001b[0m\u001b[31;49m24.0\u001b[0m\u001b[39;49m -> \u001b[0m\u001b[32;49m24.1.1\u001b[0m\n",
      "\u001b[1m[\u001b[0m\u001b[34;49mnotice\u001b[0m\u001b[1;39;49m]\u001b[0m\u001b[39;49m To update, run: \u001b[0m\u001b[32;49mpip install --upgrade pip\u001b[0m\n"
     ]
    }
   ],
   "source": [
    "!pip install ghostscript\n"
   ]
  },
  {
   "cell_type": "code",
   "execution_count": null,
   "metadata": {},
   "outputs": [
    {
     "name": "stdout",
     "output_type": "stream",
     "text": [
      "Requirement already satisfied: camelot-py[cv] in ./lib/python3.12/site-packages (0.9.0)\n",
      "Collecting camelot-py[cv]\n",
      "  Using cached camelot_py-0.11.0-py3-none-any.whl.metadata (8.3 kB)\n",
      "Requirement already satisfied: chardet>=3.0.4 in ./lib/python3.12/site-packages (from camelot-py[cv]) (5.2.0)\n",
      "Requirement already satisfied: click>=6.7 in ./lib/python3.12/site-packages (from camelot-py[cv]) (8.1.7)\n",
      "Requirement already satisfied: numpy>=1.13.3 in ./lib/python3.12/site-packages (from camelot-py[cv]) (1.26.4)\n",
      "Requirement already satisfied: openpyxl>=2.5.8 in ./lib/python3.12/site-packages (from camelot-py[cv]) (3.1.4)\n",
      "Requirement already satisfied: pandas>=0.23.4 in ./lib/python3.12/site-packages (from camelot-py[cv]) (2.2.2)\n",
      "Requirement already satisfied: pdfminer.six>=20200726 in ./lib/python3.12/site-packages (from camelot-py[cv]) (20231228)\n",
      "Requirement already satisfied: pypdf>=3.0.0 in ./lib/python3.12/site-packages (from camelot-py[cv]) (4.2.0)\n",
      "Requirement already satisfied: tabulate>=0.8.9 in ./lib/python3.12/site-packages (from camelot-py[cv]) (0.9.0)\n",
      "Requirement already satisfied: ghostscript>=0.7 in ./lib/python3.12/site-packages (from camelot-py[cv]) (0.7)\n",
      "Requirement already satisfied: opencv-python>=3.4.2.17 in ./lib/python3.12/site-packages (from camelot-py[cv]) (4.10.0.84)\n",
      "INFO: pip is looking at multiple versions of camelot-py[cv] to determine which version is compatible with other requirements. This could take a while.\n",
      "  Using cached camelot_py-0.10.1-py3-none-any.whl.metadata (8.3 kB)\n",
      "Requirement already satisfied: PyPDF2>=1.26.0 in ./lib/python3.12/site-packages (from camelot-py[cv]) (2.10.5)\n",
      "  Using cached camelot_py-0.10.0-py3-none-any.whl.metadata (8.3 kB)\n",
      "Requirement already satisfied: et-xmlfile in ./lib/python3.12/site-packages (from openpyxl>=2.5.8->camelot-py[cv]) (1.1.0)\n",
      "Requirement already satisfied: python-dateutil>=2.8.2 in ./lib/python3.12/site-packages (from pandas>=0.23.4->camelot-py[cv]) (2.9.0.post0)\n",
      "Requirement already satisfied: pytz>=2020.1 in ./lib/python3.12/site-packages (from pandas>=0.23.4->camelot-py[cv]) (2024.1)\n",
      "Requirement already satisfied: tzdata>=2022.7 in ./lib/python3.12/site-packages (from pandas>=0.23.4->camelot-py[cv]) (2024.1)\n",
      "Requirement already satisfied: charset-normalizer>=2.0.0 in ./lib/python3.12/site-packages (from pdfminer.six>=20200726->camelot-py[cv]) (3.3.2)\n",
      "Requirement already satisfied: cryptography>=36.0.0 in ./lib/python3.12/site-packages (from pdfminer.six>=20200726->camelot-py[cv]) (42.0.8)\n",
      "Requirement already satisfied: cffi>=1.12 in ./lib/python3.12/site-packages (from cryptography>=36.0.0->pdfminer.six>=20200726->camelot-py[cv]) (1.16.0)\n",
      "Requirement already satisfied: six>=1.5 in ./lib/python3.12/site-packages (from python-dateutil>=2.8.2->pandas>=0.23.4->camelot-py[cv]) (1.16.0)\n",
      "Requirement already satisfied: pycparser in ./lib/python3.12/site-packages (from cffi>=1.12->cryptography>=36.0.0->pdfminer.six>=20200726->camelot-py[cv]) (2.22)\n",
      "\n",
      "\u001b[1m[\u001b[0m\u001b[34;49mnotice\u001b[0m\u001b[1;39;49m]\u001b[0m\u001b[39;49m A new release of pip is available: \u001b[0m\u001b[31;49m24.0\u001b[0m\u001b[39;49m -> \u001b[0m\u001b[32;49m24.1.1\u001b[0m\n",
      "\u001b[1m[\u001b[0m\u001b[34;49mnotice\u001b[0m\u001b[1;39;49m]\u001b[0m\u001b[39;49m To update, run: \u001b[0m\u001b[32;49mpip install --upgrade pip\u001b[0m\n",
      "Note: you may need to restart the kernel to use updated packages.\n"
     ]
    }
   ],
   "source": [
    "pip install -U \"camelot-py[cv]\"\n"
   ]
  },
  {
   "cell_type": "code",
   "execution_count": null,
   "metadata": {},
   "outputs": [
    {
     "name": "stdout",
     "output_type": "stream",
     "text": [
      "Reading tables from PDF file: /Users/vamshi/Documents/GenAI/camelot/camelot.pdf\n"
     ]
    },
    {
     "ename": "FileNotFoundError",
     "evalue": "[Errno 2] No such file or directory: '/Users/vamshi/Documents/GenAI/camelot/camelot.pdf'",
     "output_type": "error",
     "traceback": [
      "\u001b[0;31m---------------------------------------------------------------------------\u001b[0m",
      "\u001b[0;31mFileNotFoundError\u001b[0m                         Traceback (most recent call last)",
      "Cell \u001b[0;32mIn[8], line 7\u001b[0m\n\u001b[1;32m      5\u001b[0m pdf_file \u001b[38;5;241m=\u001b[39m \u001b[38;5;124m'\u001b[39m\u001b[38;5;124m/Users/vamshi/Documents/GenAI/camelot/camelot.pdf\u001b[39m\u001b[38;5;124m'\u001b[39m\n\u001b[1;32m      6\u001b[0m \u001b[38;5;28mprint\u001b[39m(\u001b[38;5;124mf\u001b[39m\u001b[38;5;124m\"\u001b[39m\u001b[38;5;124mReading tables from PDF file: \u001b[39m\u001b[38;5;132;01m{\u001b[39;00mpdf_file\u001b[38;5;132;01m}\u001b[39;00m\u001b[38;5;124m\"\u001b[39m)\n\u001b[0;32m----> 7\u001b[0m tables \u001b[38;5;241m=\u001b[39m \u001b[43mcamelot\u001b[49m\u001b[38;5;241;43m.\u001b[39;49m\u001b[43mread_pdf\u001b[49m\u001b[43m(\u001b[49m\u001b[43mpdf_file\u001b[49m\u001b[43m,\u001b[49m\u001b[43m \u001b[49m\u001b[43mpages\u001b[49m\u001b[38;5;241;43m=\u001b[39;49m\u001b[38;5;124;43m'\u001b[39;49m\u001b[38;5;124;43mall\u001b[39;49m\u001b[38;5;124;43m'\u001b[39;49m\u001b[43m)\u001b[49m\n\u001b[1;32m      8\u001b[0m \u001b[38;5;28mprint\u001b[39m(\u001b[38;5;124mf\u001b[39m\u001b[38;5;124m\"\u001b[39m\u001b[38;5;124mFound \u001b[39m\u001b[38;5;132;01m{\u001b[39;00m\u001b[38;5;28mlen\u001b[39m(tables)\u001b[38;5;132;01m}\u001b[39;00m\u001b[38;5;124m tables in the PDF file.\u001b[39m\u001b[38;5;124m\"\u001b[39m)\n\u001b[1;32m     10\u001b[0m \u001b[38;5;66;03m# Concatenate all tables into a single DataFrame\u001b[39;00m\n",
      "File \u001b[0;32m~/Documents/GenAI/camelot2/lib/python3.12/site-packages/camelot/io.py:111\u001b[0m, in \u001b[0;36mread_pdf\u001b[0;34m(filepath, pages, password, flavor, suppress_stdout, layout_kwargs, **kwargs)\u001b[0m\n\u001b[1;32m    108\u001b[0m     warnings\u001b[38;5;241m.\u001b[39msimplefilter(\u001b[38;5;124m\"\u001b[39m\u001b[38;5;124mignore\u001b[39m\u001b[38;5;124m\"\u001b[39m)\n\u001b[1;32m    110\u001b[0m validate_input(kwargs, flavor\u001b[38;5;241m=\u001b[39mflavor)\n\u001b[0;32m--> 111\u001b[0m p \u001b[38;5;241m=\u001b[39m \u001b[43mPDFHandler\u001b[49m\u001b[43m(\u001b[49m\u001b[43mfilepath\u001b[49m\u001b[43m,\u001b[49m\u001b[43m \u001b[49m\u001b[43mpages\u001b[49m\u001b[38;5;241;43m=\u001b[39;49m\u001b[43mpages\u001b[49m\u001b[43m,\u001b[49m\u001b[43m \u001b[49m\u001b[43mpassword\u001b[49m\u001b[38;5;241;43m=\u001b[39;49m\u001b[43mpassword\u001b[49m\u001b[43m)\u001b[49m\n\u001b[1;32m    112\u001b[0m kwargs \u001b[38;5;241m=\u001b[39m remove_extra(kwargs, flavor\u001b[38;5;241m=\u001b[39mflavor)\n\u001b[1;32m    113\u001b[0m tables \u001b[38;5;241m=\u001b[39m p\u001b[38;5;241m.\u001b[39mparse(\n\u001b[1;32m    114\u001b[0m     flavor\u001b[38;5;241m=\u001b[39mflavor,\n\u001b[1;32m    115\u001b[0m     suppress_stdout\u001b[38;5;241m=\u001b[39msuppress_stdout,\n\u001b[1;32m    116\u001b[0m     layout_kwargs\u001b[38;5;241m=\u001b[39mlayout_kwargs,\n\u001b[1;32m    117\u001b[0m     \u001b[38;5;241m*\u001b[39m\u001b[38;5;241m*\u001b[39mkwargs\n\u001b[1;32m    118\u001b[0m )\n",
      "File \u001b[0;32m~/Documents/GenAI/camelot2/lib/python3.12/site-packages/camelot/handlers.py:50\u001b[0m, in \u001b[0;36mPDFHandler.__init__\u001b[0;34m(self, filepath, pages, password)\u001b[0m\n\u001b[1;32m     48\u001b[0m     \u001b[38;5;28;01mif\u001b[39;00m sys\u001b[38;5;241m.\u001b[39mversion_info[\u001b[38;5;241m0\u001b[39m] \u001b[38;5;241m<\u001b[39m \u001b[38;5;241m3\u001b[39m:\n\u001b[1;32m     49\u001b[0m         \u001b[38;5;28mself\u001b[39m\u001b[38;5;241m.\u001b[39mpassword \u001b[38;5;241m=\u001b[39m \u001b[38;5;28mself\u001b[39m\u001b[38;5;241m.\u001b[39mpassword\u001b[38;5;241m.\u001b[39mencode(\u001b[38;5;124m\"\u001b[39m\u001b[38;5;124mascii\u001b[39m\u001b[38;5;124m\"\u001b[39m)\n\u001b[0;32m---> 50\u001b[0m \u001b[38;5;28mself\u001b[39m\u001b[38;5;241m.\u001b[39mpages \u001b[38;5;241m=\u001b[39m \u001b[38;5;28;43mself\u001b[39;49m\u001b[38;5;241;43m.\u001b[39;49m\u001b[43m_get_pages\u001b[49m\u001b[43m(\u001b[49m\u001b[38;5;28;43mself\u001b[39;49m\u001b[38;5;241;43m.\u001b[39;49m\u001b[43mfilepath\u001b[49m\u001b[43m,\u001b[49m\u001b[43m \u001b[49m\u001b[43mpages\u001b[49m\u001b[43m)\u001b[49m\n",
      "File \u001b[0;32m~/Documents/GenAI/camelot2/lib/python3.12/site-packages/camelot/handlers.py:73\u001b[0m, in \u001b[0;36mPDFHandler._get_pages\u001b[0;34m(self, filepath, pages)\u001b[0m\n\u001b[1;32m     71\u001b[0m     page_numbers\u001b[38;5;241m.\u001b[39mappend({\u001b[38;5;124m\"\u001b[39m\u001b[38;5;124mstart\u001b[39m\u001b[38;5;124m\"\u001b[39m: \u001b[38;5;241m1\u001b[39m, \u001b[38;5;124m\"\u001b[39m\u001b[38;5;124mend\u001b[39m\u001b[38;5;124m\"\u001b[39m: \u001b[38;5;241m1\u001b[39m})\n\u001b[1;32m     72\u001b[0m \u001b[38;5;28;01melse\u001b[39;00m:\n\u001b[0;32m---> 73\u001b[0m     instream \u001b[38;5;241m=\u001b[39m \u001b[38;5;28;43mopen\u001b[39;49m\u001b[43m(\u001b[49m\u001b[43mfilepath\u001b[49m\u001b[43m,\u001b[49m\u001b[43m \u001b[49m\u001b[38;5;124;43m\"\u001b[39;49m\u001b[38;5;124;43mrb\u001b[39;49m\u001b[38;5;124;43m\"\u001b[39;49m\u001b[43m)\u001b[49m\n\u001b[1;32m     74\u001b[0m     infile \u001b[38;5;241m=\u001b[39m PdfFileReader(instream, strict\u001b[38;5;241m=\u001b[39m\u001b[38;5;28;01mFalse\u001b[39;00m)\n\u001b[1;32m     75\u001b[0m     \u001b[38;5;28;01mif\u001b[39;00m infile\u001b[38;5;241m.\u001b[39misEncrypted:\n",
      "\u001b[0;31mFileNotFoundError\u001b[0m: [Errno 2] No such file or directory: '/Users/vamshi/Documents/GenAI/camelot/camelot.pdf'"
     ]
    }
   ],
   "source": [
    "import camelot\n",
    "import pandas as pd\n",
    "\n",
    "# Read all tables from the PDF file\n",
    "pdf_file = '/Users/vamshi/Documents/GenAI/camelot/camelot.pdf'\n",
    "print(f\"Reading tables from PDF file: {pdf_file}\")\n",
    "tables = camelot.read_pdf(pdf_file, pages='all')\n",
    "print(f\"Found {len(tables)} tables in the PDF file.\")\n",
    "\n",
    "# Concatenate all tables into a single DataFrame\n",
    "all_tables_df = pd.concat([table.df for table in tables])\n",
    "\n",
    "# Export the combined DataFrame to a single CSV file\n",
    "all_tables_df.to_csv('finaldata1.csv', index=False)\n",
    "print(\"Exported all tables to all_tables.csv\")\n"
   ]
  },
  {
   "cell_type": "code",
   "execution_count": null,
   "metadata": {},
   "outputs": [],
   "source": [
    "import os\n",
    "import pandas as pd\n",
    "import camelot\n",
    "\n",
    "# Define the PDF file path\n",
    "pdf_file = '/path/to/your/pdf/file.pdf'  # Update this with your local PDF file path\n",
    "\n",
    "# Check if the file is a PDF\n",
    "root, ext = os.path.splitext(os.path.basename(pdf_file))\n",
    "if ext.lower() != '.pdf':\n",
    "    raise ValueError('This script works only with PDF files.')\n",
    "\n",
    "# Extract tables from the PDF using Camelot\n",
    "tables = camelot.read_pdf(pdf_file, pages='all')\n",
    "\n",
    "# Save each table to a CSV file\n",
    "for i, table in enumerate(tables):\n",
    "    df = table.df\n",
    "    out = f'{root}-page-{table.page}-table-{i+1}.csv'\n",
    "    df.to_csv(out, index=False, quoting=1, encoding='utf-8')\n",
    "\n",
    "print(\"Tables extracted and saved to CSV files.\")\n"
   ]
  },
  {
   "cell_type": "code",
   "execution_count": null,
   "metadata": {},
   "outputs": [],
   "source": []
  }
 ],
 "metadata": {
  "kernelspec": {
   "display_name": "camelot",
   "language": "python",
   "name": "python3"
  },
  "language_info": {
   "codemirror_mode": {
    "name": "ipython",
    "version": 3
   },
   "file_extension": ".py",
   "mimetype": "text/x-python",
   "name": "python",
   "nbconvert_exporter": "python",
   "pygments_lexer": "ipython3",
   "version": "3.12.4"
  }
 },
 "nbformat": 4,
 "nbformat_minor": 2
}
