{
 "cells": [
  {
   "cell_type": "code",
   "execution_count": 23,
   "metadata": {},
   "outputs": [],
   "source": [
    "import camelot\n",
    "import pandas as pd\n",
    "import os\n",
    "\n"
   ]
  },
  {
   "cell_type": "code",
   "execution_count": 24,
   "metadata": {},
   "outputs": [],
   "source": [
    "\n",
    "# drive.mount('/content/drive')\n",
    "\n",
    "# Set the directory containing the PDF files\n",
    "pdf_dir = '/Users/vamshi/Documents/GenAI/camelot2/content/pdf_files'\n",
    "\n",
    "# Create the output directory for CSV files\n",
    "csv_dir = '/Users/vamshi/Documents/GenAI/camelot2/content/csv_files'\n",
    "os.makedirs(csv_dir, exist_ok=True)\n",
    "\n",
    "# Process each PDF file in the directory\n",
    "pdf_files = [f for f in os.listdir(pdf_dir) if f.endswith('.pdf')]\n",
    "\n",
    "\n"
   ]
  },
  {
   "cell_type": "code",
   "execution_count": 25,
   "metadata": {},
   "outputs": [
    {
     "name": "stdout",
     "output_type": "stream",
     "text": [
      "Processing PDF file: integrated-and-sustainability-report-2023-single-page 3.pdf\n"
     ]
    },
    {
     "name": "stderr",
     "output_type": "stream",
     "text": [
      "/Users/vamshi/Documents/GenAI/camelot2/lib/python3.12/site-packages/camelot/parsers/lattice.py:392: UserWarning: page-1 is image-based, camelot only works on text-based pages.\n",
      "  warnings.warn(\n",
      "/Users/vamshi/Documents/GenAI/camelot2/lib/python3.12/site-packages/camelot/parsers/lattice.py:392: UserWarning: page-2 is image-based, camelot only works on text-based pages.\n",
      "  warnings.warn(\n",
      "/Users/vamshi/Documents/GenAI/camelot2/lib/python3.12/site-packages/camelot/parsers/lattice.py:392: UserWarning: page-3 is image-based, camelot only works on text-based pages.\n",
      "  warnings.warn(\n",
      "/Users/vamshi/Documents/GenAI/camelot2/lib/python3.12/site-packages/camelot/parsers/lattice.py:392: UserWarning: page-18 is image-based, camelot only works on text-based pages.\n",
      "  warnings.warn(\n",
      "/Users/vamshi/Documents/GenAI/camelot2/lib/python3.12/site-packages/camelot/parsers/lattice.py:392: UserWarning: page-32 is image-based, camelot only works on text-based pages.\n",
      "  warnings.warn(\n",
      "/Users/vamshi/Documents/GenAI/camelot2/lib/python3.12/site-packages/camelot/parsers/lattice.py:392: UserWarning: page-40 is image-based, camelot only works on text-based pages.\n",
      "  warnings.warn(\n",
      "/Users/vamshi/Documents/GenAI/camelot2/lib/python3.12/site-packages/camelot/parsers/lattice.py:392: UserWarning: page-78 is image-based, camelot only works on text-based pages.\n",
      "  warnings.warn(\n",
      "/Users/vamshi/Documents/GenAI/camelot2/lib/python3.12/site-packages/camelot/parsers/lattice.py:392: UserWarning: page-82 is image-based, camelot only works on text-based pages.\n",
      "  warnings.warn(\n",
      "/Users/vamshi/Documents/GenAI/camelot2/lib/python3.12/site-packages/camelot/parsers/lattice.py:392: UserWarning: page-203 is image-based, camelot only works on text-based pages.\n",
      "  warnings.warn(\n",
      "/Users/vamshi/Documents/GenAI/camelot2/lib/python3.12/site-packages/camelot/parsers/lattice.py:392: UserWarning: page-435 is image-based, camelot only works on text-based pages.\n",
      "  warnings.warn(\n"
     ]
    },
    {
     "name": "stdout",
     "output_type": "stream",
     "text": [
      "Processing PDF file: RITSL_AR_2022_23_eea6041a79 2.pdf\n"
     ]
    },
    {
     "name": "stderr",
     "output_type": "stream",
     "text": [
      "Invalid stream (index 99) within object 853 0: Stream has ended unexpectedly\n",
      "Invalid stream (index 99) within object 1053 0: Stream has ended unexpectedly\n",
      "Invalid stream (index 99) within object 1053 0: Stream has ended unexpectedly\n",
      "Invalid stream (index 99) within object 1053 0: Stream has ended unexpectedly\n",
      "Invalid stream (index 99) within object 1053 0: Stream has ended unexpectedly\n"
     ]
    },
    {
     "name": "stdout",
     "output_type": "stream",
     "text": [
      "Processing PDF file: Ambuja_annual_report2022 2.pdf\n"
     ]
    },
    {
     "name": "stderr",
     "output_type": "stream",
     "text": [
      "/Users/vamshi/Documents/GenAI/camelot2/lib/python3.12/site-packages/camelot/parsers/lattice.py:397: UserWarning: No tables found on page-395\n",
      "  warnings.warn(\n"
     ]
    },
    {
     "name": "stdout",
     "output_type": "stream",
     "text": [
      "Processing PDF file: HM_ASR_2023 2.pdf\n"
     ]
    },
    {
     "ename": "DependencyError",
     "evalue": "PyCryptodome is required for AES algorithm",
     "output_type": "error",
     "traceback": [
      "\u001b[0;31m---------------------------------------------------------------------------\u001b[0m",
      "\u001b[0;31mDependencyError\u001b[0m                           Traceback (most recent call last)",
      "Cell \u001b[0;32mIn[25], line 6\u001b[0m\n\u001b[1;32m      4\u001b[0m \u001b[38;5;28mprint\u001b[39m(\u001b[38;5;124mf\u001b[39m\u001b[38;5;124m\"\u001b[39m\u001b[38;5;124mProcessing PDF file: \u001b[39m\u001b[38;5;132;01m{\u001b[39;00mpdf_file\u001b[38;5;132;01m}\u001b[39;00m\u001b[38;5;124m\"\u001b[39m)\n\u001b[1;32m      5\u001b[0m pdf_path \u001b[38;5;241m=\u001b[39m os\u001b[38;5;241m.\u001b[39mpath\u001b[38;5;241m.\u001b[39mjoin(pdf_dir, pdf_file)\n\u001b[0;32m----> 6\u001b[0m tables \u001b[38;5;241m=\u001b[39m \u001b[43mcamelot\u001b[49m\u001b[38;5;241;43m.\u001b[39;49m\u001b[43mread_pdf\u001b[49m\u001b[43m(\u001b[49m\u001b[43mpdf_path\u001b[49m\u001b[43m,\u001b[49m\u001b[43m \u001b[49m\u001b[43mpages\u001b[49m\u001b[38;5;241;43m=\u001b[39;49m\u001b[38;5;124;43m'\u001b[39;49m\u001b[38;5;124;43mall\u001b[39;49m\u001b[38;5;124;43m'\u001b[39;49m\u001b[43m)\u001b[49m\n\u001b[1;32m      7\u001b[0m pdf_tables_df \u001b[38;5;241m=\u001b[39m pd\u001b[38;5;241m.\u001b[39mconcat([table\u001b[38;5;241m.\u001b[39mdf \u001b[38;5;28;01mfor\u001b[39;00m table \u001b[38;5;129;01min\u001b[39;00m tables])\n\u001b[1;32m      8\u001b[0m all_tables_df \u001b[38;5;241m=\u001b[39m pd\u001b[38;5;241m.\u001b[39mconcat([all_tables_df, pdf_tables_df], ignore_index\u001b[38;5;241m=\u001b[39m\u001b[38;5;28;01mTrue\u001b[39;00m)\n",
      "File \u001b[0;32m~/Documents/GenAI/camelot2/lib/python3.12/site-packages/camelot/io.py:111\u001b[0m, in \u001b[0;36mread_pdf\u001b[0;34m(filepath, pages, password, flavor, suppress_stdout, layout_kwargs, **kwargs)\u001b[0m\n\u001b[1;32m    108\u001b[0m     warnings\u001b[38;5;241m.\u001b[39msimplefilter(\u001b[38;5;124m\"\u001b[39m\u001b[38;5;124mignore\u001b[39m\u001b[38;5;124m\"\u001b[39m)\n\u001b[1;32m    110\u001b[0m validate_input(kwargs, flavor\u001b[38;5;241m=\u001b[39mflavor)\n\u001b[0;32m--> 111\u001b[0m p \u001b[38;5;241m=\u001b[39m \u001b[43mPDFHandler\u001b[49m\u001b[43m(\u001b[49m\u001b[43mfilepath\u001b[49m\u001b[43m,\u001b[49m\u001b[43m \u001b[49m\u001b[43mpages\u001b[49m\u001b[38;5;241;43m=\u001b[39;49m\u001b[43mpages\u001b[49m\u001b[43m,\u001b[49m\u001b[43m \u001b[49m\u001b[43mpassword\u001b[49m\u001b[38;5;241;43m=\u001b[39;49m\u001b[43mpassword\u001b[49m\u001b[43m)\u001b[49m\n\u001b[1;32m    112\u001b[0m kwargs \u001b[38;5;241m=\u001b[39m remove_extra(kwargs, flavor\u001b[38;5;241m=\u001b[39mflavor)\n\u001b[1;32m    113\u001b[0m tables \u001b[38;5;241m=\u001b[39m p\u001b[38;5;241m.\u001b[39mparse(\n\u001b[1;32m    114\u001b[0m     flavor\u001b[38;5;241m=\u001b[39mflavor,\n\u001b[1;32m    115\u001b[0m     suppress_stdout\u001b[38;5;241m=\u001b[39msuppress_stdout,\n\u001b[1;32m    116\u001b[0m     layout_kwargs\u001b[38;5;241m=\u001b[39mlayout_kwargs,\n\u001b[1;32m    117\u001b[0m     \u001b[38;5;241m*\u001b[39m\u001b[38;5;241m*\u001b[39mkwargs\n\u001b[1;32m    118\u001b[0m )\n",
      "File \u001b[0;32m~/Documents/GenAI/camelot2/lib/python3.12/site-packages/camelot/handlers.py:50\u001b[0m, in \u001b[0;36mPDFHandler.__init__\u001b[0;34m(self, filepath, pages, password)\u001b[0m\n\u001b[1;32m     48\u001b[0m     \u001b[38;5;28;01mif\u001b[39;00m sys\u001b[38;5;241m.\u001b[39mversion_info[\u001b[38;5;241m0\u001b[39m] \u001b[38;5;241m<\u001b[39m \u001b[38;5;241m3\u001b[39m:\n\u001b[1;32m     49\u001b[0m         \u001b[38;5;28mself\u001b[39m\u001b[38;5;241m.\u001b[39mpassword \u001b[38;5;241m=\u001b[39m \u001b[38;5;28mself\u001b[39m\u001b[38;5;241m.\u001b[39mpassword\u001b[38;5;241m.\u001b[39mencode(\u001b[38;5;124m\"\u001b[39m\u001b[38;5;124mascii\u001b[39m\u001b[38;5;124m\"\u001b[39m)\n\u001b[0;32m---> 50\u001b[0m \u001b[38;5;28mself\u001b[39m\u001b[38;5;241m.\u001b[39mpages \u001b[38;5;241m=\u001b[39m \u001b[38;5;28;43mself\u001b[39;49m\u001b[38;5;241;43m.\u001b[39;49m\u001b[43m_get_pages\u001b[49m\u001b[43m(\u001b[49m\u001b[38;5;28;43mself\u001b[39;49m\u001b[38;5;241;43m.\u001b[39;49m\u001b[43mfilepath\u001b[49m\u001b[43m,\u001b[49m\u001b[43m \u001b[49m\u001b[43mpages\u001b[49m\u001b[43m)\u001b[49m\n",
      "File \u001b[0;32m~/Documents/GenAI/camelot2/lib/python3.12/site-packages/camelot/handlers.py:74\u001b[0m, in \u001b[0;36mPDFHandler._get_pages\u001b[0;34m(self, filepath, pages)\u001b[0m\n\u001b[1;32m     72\u001b[0m \u001b[38;5;28;01melse\u001b[39;00m:\n\u001b[1;32m     73\u001b[0m     instream \u001b[38;5;241m=\u001b[39m \u001b[38;5;28mopen\u001b[39m(filepath, \u001b[38;5;124m\"\u001b[39m\u001b[38;5;124mrb\u001b[39m\u001b[38;5;124m\"\u001b[39m)\n\u001b[0;32m---> 74\u001b[0m     infile \u001b[38;5;241m=\u001b[39m \u001b[43mPdfFileReader\u001b[49m\u001b[43m(\u001b[49m\u001b[43minstream\u001b[49m\u001b[43m,\u001b[49m\u001b[43m \u001b[49m\u001b[43mstrict\u001b[49m\u001b[38;5;241;43m=\u001b[39;49m\u001b[38;5;28;43;01mFalse\u001b[39;49;00m\u001b[43m)\u001b[49m\n\u001b[1;32m     75\u001b[0m     \u001b[38;5;28;01mif\u001b[39;00m infile\u001b[38;5;241m.\u001b[39misEncrypted:\n\u001b[1;32m     76\u001b[0m         infile\u001b[38;5;241m.\u001b[39mdecrypt(\u001b[38;5;28mself\u001b[39m\u001b[38;5;241m.\u001b[39mpassword)\n",
      "File \u001b[0;32m~/Documents/GenAI/camelot2/lib/python3.12/site-packages/PyPDF2/_reader.py:1892\u001b[0m, in \u001b[0;36mPdfFileReader.__init__\u001b[0;34m(self, *args, **kwargs)\u001b[0m\n\u001b[1;32m   1890\u001b[0m \u001b[38;5;28;01mif\u001b[39;00m \u001b[38;5;124m\"\u001b[39m\u001b[38;5;124mstrict\u001b[39m\u001b[38;5;124m\"\u001b[39m \u001b[38;5;129;01mnot\u001b[39;00m \u001b[38;5;129;01min\u001b[39;00m kwargs \u001b[38;5;129;01mand\u001b[39;00m \u001b[38;5;28mlen\u001b[39m(args) \u001b[38;5;241m<\u001b[39m \u001b[38;5;241m2\u001b[39m:\n\u001b[1;32m   1891\u001b[0m     kwargs[\u001b[38;5;124m\"\u001b[39m\u001b[38;5;124mstrict\u001b[39m\u001b[38;5;124m\"\u001b[39m] \u001b[38;5;241m=\u001b[39m \u001b[38;5;28;01mTrue\u001b[39;00m  \u001b[38;5;66;03m# maintain the default\u001b[39;00m\n\u001b[0;32m-> 1892\u001b[0m \u001b[38;5;28;43msuper\u001b[39;49m\u001b[43m(\u001b[49m\u001b[43m)\u001b[49m\u001b[38;5;241;43m.\u001b[39;49m\u001b[38;5;21;43m__init__\u001b[39;49m\u001b[43m(\u001b[49m\u001b[38;5;241;43m*\u001b[39;49m\u001b[43margs\u001b[49m\u001b[43m,\u001b[49m\u001b[43m \u001b[49m\u001b[38;5;241;43m*\u001b[39;49m\u001b[38;5;241;43m*\u001b[39;49m\u001b[43mkwargs\u001b[49m\u001b[43m)\u001b[49m\n",
      "File \u001b[0;32m~/Documents/GenAI/camelot2/lib/python3.12/site-packages/PyPDF2/_reader.py:294\u001b[0m, in \u001b[0;36mPdfReader.__init__\u001b[0;34m(self, stream, strict, password)\u001b[0m\n\u001b[1;32m    291\u001b[0m \u001b[38;5;66;03m# try empty password if no password provided\u001b[39;00m\n\u001b[1;32m    292\u001b[0m pwd \u001b[38;5;241m=\u001b[39m password \u001b[38;5;28;01mif\u001b[39;00m password \u001b[38;5;129;01mis\u001b[39;00m \u001b[38;5;129;01mnot\u001b[39;00m \u001b[38;5;28;01mNone\u001b[39;00m \u001b[38;5;28;01melse\u001b[39;00m \u001b[38;5;124mb\u001b[39m\u001b[38;5;124m\"\u001b[39m\u001b[38;5;124m\"\u001b[39m\n\u001b[1;32m    293\u001b[0m \u001b[38;5;28;01mif\u001b[39;00m (\n\u001b[0;32m--> 294\u001b[0m     \u001b[38;5;28;43mself\u001b[39;49m\u001b[38;5;241;43m.\u001b[39;49m\u001b[43m_encryption\u001b[49m\u001b[38;5;241;43m.\u001b[39;49m\u001b[43mverify\u001b[49m\u001b[43m(\u001b[49m\u001b[43mpwd\u001b[49m\u001b[43m)\u001b[49m \u001b[38;5;241m==\u001b[39m PasswordType\u001b[38;5;241m.\u001b[39mNOT_DECRYPTED\n\u001b[1;32m    295\u001b[0m     \u001b[38;5;129;01mand\u001b[39;00m password \u001b[38;5;129;01mis\u001b[39;00m \u001b[38;5;129;01mnot\u001b[39;00m \u001b[38;5;28;01mNone\u001b[39;00m\n\u001b[1;32m    296\u001b[0m ):\n\u001b[1;32m    297\u001b[0m     \u001b[38;5;66;03m# raise if password provided\u001b[39;00m\n\u001b[1;32m    298\u001b[0m     \u001b[38;5;28;01mraise\u001b[39;00m WrongPasswordError(\u001b[38;5;124m\"\u001b[39m\u001b[38;5;124mWrong password\u001b[39m\u001b[38;5;124m\"\u001b[39m)\n\u001b[1;32m    299\u001b[0m \u001b[38;5;28mself\u001b[39m\u001b[38;5;241m.\u001b[39m_override_encryption \u001b[38;5;241m=\u001b[39m \u001b[38;5;28;01mFalse\u001b[39;00m\n",
      "File \u001b[0;32m~/Documents/GenAI/camelot2/lib/python3.12/site-packages/PyPDF2/_encryption.py:771\u001b[0m, in \u001b[0;36mEncryption.verify\u001b[0;34m(self, password)\u001b[0m\n\u001b[1;32m    768\u001b[0m \u001b[38;5;28;01melse\u001b[39;00m:\n\u001b[1;32m    769\u001b[0m     pwd \u001b[38;5;241m=\u001b[39m password\n\u001b[0;32m--> 771\u001b[0m key, rc \u001b[38;5;241m=\u001b[39m \u001b[38;5;28mself\u001b[39m\u001b[38;5;241m.\u001b[39mverify_v4(pwd) \u001b[38;5;28;01mif\u001b[39;00m \u001b[38;5;28mself\u001b[39m\u001b[38;5;241m.\u001b[39malgV \u001b[38;5;241m<\u001b[39m\u001b[38;5;241m=\u001b[39m \u001b[38;5;241m4\u001b[39m \u001b[38;5;28;01melse\u001b[39;00m \u001b[38;5;28;43mself\u001b[39;49m\u001b[38;5;241;43m.\u001b[39;49m\u001b[43mverify_v5\u001b[49m\u001b[43m(\u001b[49m\u001b[43mpwd\u001b[49m\u001b[43m)\u001b[49m\n\u001b[1;32m    772\u001b[0m \u001b[38;5;28;01mif\u001b[39;00m rc \u001b[38;5;241m!=\u001b[39m PasswordType\u001b[38;5;241m.\u001b[39mNOT_DECRYPTED:\n\u001b[1;32m    773\u001b[0m     \u001b[38;5;28mself\u001b[39m\u001b[38;5;241m.\u001b[39m_password_type \u001b[38;5;241m=\u001b[39m rc\n",
      "File \u001b[0;32m~/Documents/GenAI/camelot2/lib/python3.12/site-packages/PyPDF2/_encryption.py:822\u001b[0m, in \u001b[0;36mEncryption.verify_v5\u001b[0;34m(self, password)\u001b[0m\n\u001b[1;32m    819\u001b[0m ue_entry \u001b[38;5;241m=\u001b[39m cast(ByteStringObject, \u001b[38;5;28mself\u001b[39m\u001b[38;5;241m.\u001b[39mentry[\u001b[38;5;124m\"\u001b[39m\u001b[38;5;124m/UE\u001b[39m\u001b[38;5;124m\"\u001b[39m]\u001b[38;5;241m.\u001b[39mget_object())\u001b[38;5;241m.\u001b[39moriginal_bytes\n\u001b[1;32m    821\u001b[0m \u001b[38;5;66;03m# verify owner password first\u001b[39;00m\n\u001b[0;32m--> 822\u001b[0m key \u001b[38;5;241m=\u001b[39m \u001b[43mAlgV5\u001b[49m\u001b[38;5;241;43m.\u001b[39;49m\u001b[43mverify_owner_password\u001b[49m\u001b[43m(\u001b[49m\n\u001b[1;32m    823\u001b[0m \u001b[43m    \u001b[49m\u001b[38;5;28;43mself\u001b[39;49m\u001b[38;5;241;43m.\u001b[39;49m\u001b[43malgR\u001b[49m\u001b[43m,\u001b[49m\u001b[43m \u001b[49m\u001b[43mpassword\u001b[49m\u001b[43m,\u001b[49m\u001b[43m \u001b[49m\u001b[43mo_entry\u001b[49m\u001b[43m,\u001b[49m\u001b[43m \u001b[49m\u001b[43moe_entry\u001b[49m\u001b[43m,\u001b[49m\u001b[43m \u001b[49m\u001b[43mu_entry\u001b[49m\n\u001b[1;32m    824\u001b[0m \u001b[43m\u001b[49m\u001b[43m)\u001b[49m\n\u001b[1;32m    825\u001b[0m rc \u001b[38;5;241m=\u001b[39m PasswordType\u001b[38;5;241m.\u001b[39mOWNER_PASSWORD\n\u001b[1;32m    826\u001b[0m \u001b[38;5;28;01mif\u001b[39;00m \u001b[38;5;129;01mnot\u001b[39;00m key:\n",
      "File \u001b[0;32m~/Documents/GenAI/camelot2/lib/python3.12/site-packages/PyPDF2/_encryption.py:520\u001b[0m, in \u001b[0;36mAlgV5.verify_owner_password\u001b[0;34m(R, password, o_value, oe_value, u_value)\u001b[0m\n\u001b[1;32m    489\u001b[0m \u001b[38;5;250m\u001b[39m\u001b[38;5;124;03m\"\"\"\u001b[39;00m\n\u001b[1;32m    490\u001b[0m \u001b[38;5;124;03mAlgorithm 3.2a Computing an encryption key.\u001b[39;00m\n\u001b[1;32m    491\u001b[0m \n\u001b[0;32m   (...)\u001b[0m\n\u001b[1;32m    516\u001b[0m \u001b[38;5;124;03m   should match the value in the P key.\u001b[39;00m\n\u001b[1;32m    517\u001b[0m \u001b[38;5;124;03m\"\"\"\u001b[39;00m\n\u001b[1;32m    518\u001b[0m password \u001b[38;5;241m=\u001b[39m password[:\u001b[38;5;241m127\u001b[39m]\n\u001b[1;32m    519\u001b[0m \u001b[38;5;28;01mif\u001b[39;00m (\n\u001b[0;32m--> 520\u001b[0m     \u001b[43mAlgV5\u001b[49m\u001b[38;5;241;43m.\u001b[39;49m\u001b[43mcalculate_hash\u001b[49m\u001b[43m(\u001b[49m\u001b[43mR\u001b[49m\u001b[43m,\u001b[49m\u001b[43m \u001b[49m\u001b[43mpassword\u001b[49m\u001b[43m,\u001b[49m\u001b[43m \u001b[49m\u001b[43mo_value\u001b[49m\u001b[43m[\u001b[49m\u001b[38;5;241;43m32\u001b[39;49m\u001b[43m:\u001b[49m\u001b[38;5;241;43m40\u001b[39;49m\u001b[43m]\u001b[49m\u001b[43m,\u001b[49m\u001b[43m \u001b[49m\u001b[43mu_value\u001b[49m\u001b[43m[\u001b[49m\u001b[43m:\u001b[49m\u001b[38;5;241;43m48\u001b[39;49m\u001b[43m]\u001b[49m\u001b[43m)\u001b[49m\n\u001b[1;32m    521\u001b[0m     \u001b[38;5;241m!=\u001b[39m o_value[:\u001b[38;5;241m32\u001b[39m]\n\u001b[1;32m    522\u001b[0m ):\n\u001b[1;32m    523\u001b[0m     \u001b[38;5;28;01mreturn\u001b[39;00m \u001b[38;5;124mb\u001b[39m\u001b[38;5;124m\"\u001b[39m\u001b[38;5;124m\"\u001b[39m\n\u001b[1;32m    524\u001b[0m iv \u001b[38;5;241m=\u001b[39m \u001b[38;5;28mbytes\u001b[39m(\u001b[38;5;241m0\u001b[39m \u001b[38;5;28;01mfor\u001b[39;00m _ \u001b[38;5;129;01min\u001b[39;00m \u001b[38;5;28mrange\u001b[39m(\u001b[38;5;241m16\u001b[39m))\n",
      "File \u001b[0;32m~/Documents/GenAI/camelot2/lib/python3.12/site-packages/PyPDF2/_encryption.py:551\u001b[0m, in \u001b[0;36mAlgV5.calculate_hash\u001b[0;34m(R, password, salt, udata)\u001b[0m\n\u001b[1;32m    549\u001b[0m count \u001b[38;5;241m+\u001b[39m\u001b[38;5;241m=\u001b[39m \u001b[38;5;241m1\u001b[39m\n\u001b[1;32m    550\u001b[0m K1 \u001b[38;5;241m=\u001b[39m password \u001b[38;5;241m+\u001b[39m K \u001b[38;5;241m+\u001b[39m udata\n\u001b[0;32m--> 551\u001b[0m E \u001b[38;5;241m=\u001b[39m \u001b[43mAES_CBC_encrypt\u001b[49m\u001b[43m(\u001b[49m\u001b[43mK\u001b[49m\u001b[43m[\u001b[49m\u001b[43m:\u001b[49m\u001b[38;5;241;43m16\u001b[39;49m\u001b[43m]\u001b[49m\u001b[43m,\u001b[49m\u001b[43m \u001b[49m\u001b[43mK\u001b[49m\u001b[43m[\u001b[49m\u001b[38;5;241;43m16\u001b[39;49m\u001b[43m:\u001b[49m\u001b[38;5;241;43m32\u001b[39;49m\u001b[43m]\u001b[49m\u001b[43m,\u001b[49m\u001b[43m \u001b[49m\u001b[43mK1\u001b[49m\u001b[43m \u001b[49m\u001b[38;5;241;43m*\u001b[39;49m\u001b[43m \u001b[49m\u001b[38;5;241;43m64\u001b[39;49m\u001b[43m)\u001b[49m\n\u001b[1;32m    552\u001b[0m hash_fn \u001b[38;5;241m=\u001b[39m (\n\u001b[1;32m    553\u001b[0m     hashlib\u001b[38;5;241m.\u001b[39msha256,\n\u001b[1;32m    554\u001b[0m     hashlib\u001b[38;5;241m.\u001b[39msha384,\n\u001b[1;32m    555\u001b[0m     hashlib\u001b[38;5;241m.\u001b[39msha512,\n\u001b[1;32m    556\u001b[0m )[\u001b[38;5;28msum\u001b[39m(E[:\u001b[38;5;241m16\u001b[39m]) \u001b[38;5;241m%\u001b[39m \u001b[38;5;241m3\u001b[39m]\n\u001b[1;32m    557\u001b[0m K \u001b[38;5;241m=\u001b[39m hash_fn(E)\u001b[38;5;241m.\u001b[39mdigest()\n",
      "File \u001b[0;32m~/Documents/GenAI/camelot2/lib/python3.12/site-packages/PyPDF2/_encryption.py:159\u001b[0m, in \u001b[0;36mAES_CBC_encrypt\u001b[0;34m(key, iv, data)\u001b[0m\n\u001b[1;32m    158\u001b[0m \u001b[38;5;28;01mdef\u001b[39;00m \u001b[38;5;21mAES_CBC_encrypt\u001b[39m(key: \u001b[38;5;28mbytes\u001b[39m, iv: \u001b[38;5;28mbytes\u001b[39m, data: \u001b[38;5;28mbytes\u001b[39m) \u001b[38;5;241m-\u001b[39m\u001b[38;5;241m>\u001b[39m \u001b[38;5;28mbytes\u001b[39m:\n\u001b[0;32m--> 159\u001b[0m     \u001b[38;5;28;01mraise\u001b[39;00m DependencyError(\u001b[38;5;124m\"\u001b[39m\u001b[38;5;124mPyCryptodome is required for AES algorithm\u001b[39m\u001b[38;5;124m\"\u001b[39m)\n",
      "\u001b[0;31mDependencyError\u001b[0m: PyCryptodome is required for AES algorithm"
     ]
    }
   ],
   "source": [
    "# Concatenate all tables from all PDF files into a single DataFrame\n",
    "all_tables_df = pd.DataFrame()\n",
    "for pdf_file in pdf_files:\n",
    "    print(f\"Processing PDF file: {pdf_file}\")\n",
    "    pdf_path = os.path.join(pdf_dir, pdf_file)\n",
    "    tables = camelot.read_pdf(pdf_path, pages='all')\n",
    "    pdf_tables_df = pd.concat([table.df for table in tables])\n",
    "    all_tables_df = pd.concat([all_tables_df, pdf_tables_df], ignore_index=True)\n",
    "\n",
    "# Export the combined DataFrame to a single CSV file\n",
    "csv_file_path = os.path.join(csv_dir, 'multiplehandle.csv')\n",
    "all_tables_df.to_csv(csv_file_path, index=False)\n",
    "print(f\"Exported all tables to {csv_file_path}\")\n",
    "\n"
   ]
  },
  {
   "cell_type": "code",
   "execution_count": null,
   "metadata": {},
   "outputs": [],
   "source": [
    "# Step 2: Load CSV and Process with Langchain\n",
    "from langchain_community.document_loaders import DirectoryLoader\n",
    "from langchain.chains import RetrievalQA\n",
    "from langchain_community.llms import Ollama\n",
    "from langchain.text_splitter import RecursiveCharacterTextSplitter\n",
    "from langchain.embeddings import OllamaEmbeddings\n",
    "from langchain.vectorstores import Chroma\n",
    "\n"
   ]
  },
  {
   "cell_type": "code",
   "execution_count": null,
   "metadata": {},
   "outputs": [],
   "source": [
    "# Load documents from the csv_dir directory\n",
    "loader = DirectoryLoader(csv_dir)\n",
    "data = loader.load()\n",
    "\n"
   ]
  },
  {
   "cell_type": "code",
   "execution_count": null,
   "metadata": {},
   "outputs": [],
   "source": [
    "# Split the text into manageable chunks\n",
    "text_splitter = RecursiveCharacterTextSplitter(chunk_size=500, chunk_overlap=0)\n",
    "all_splits = text_splitter.split_documents(data)\n",
    "\n",
    "# Generate embeddings for the documents\n",
    "oembed = OllamaEmbeddings(base_url=\"http://localhost:11434\", model=\"nomic-embed-text\")\n",
    "vectorstore = Chroma.from_documents(documents=all_splits, embedding=oembed)\n",
    "\n"
   ]
  },
  {
   "cell_type": "code",
   "execution_count": null,
   "metadata": {},
   "outputs": [],
   "source": [
    "# Set up the LLM and QA chain\n",
    "llm = Ollama(base_url=\"http://localhost:11434/\", model=\"llama3\")\n",
    "qachain = RetrievalQA.from_chain_type(llm, retriever=vectorstore.as_retriever())\n",
    "\n"
   ]
  },
  {
   "cell_type": "code",
   "execution_count": null,
   "metadata": {},
   "outputs": [],
   "source": [
    "# Query the data\n",
    "question = \"\"\"can you provide the data matix of \"Interest\" give me the all the data please provide the what is the value it have\"\"\"\n",
    "response = qachain.invoke({\"query\": question})\n",
    "print(response)"
   ]
  },
  {
   "cell_type": "code",
   "execution_count": null,
   "metadata": {},
   "outputs": [],
   "source": []
  }
 ],
 "metadata": {
  "kernelspec": {
   "display_name": "camelot2",
   "language": "python",
   "name": "python3"
  },
  "language_info": {
   "codemirror_mode": {
    "name": "ipython",
    "version": 3
   },
   "file_extension": ".py",
   "mimetype": "text/x-python",
   "name": "python",
   "nbconvert_exporter": "python",
   "pygments_lexer": "ipython3",
   "version": "3.12.4"
  }
 },
 "nbformat": 4,
 "nbformat_minor": 2
}
