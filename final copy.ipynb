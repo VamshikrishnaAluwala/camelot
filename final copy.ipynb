{
 "cells": [
  {
   "cell_type": "code",
   "execution_count": null,
   "metadata": {},
   "outputs": [],
   "source": [
    "import camelot\n",
    "import pandas as pd\n",
    "import os\n",
    "\n"
   ]
  },
  {
   "cell_type": "code",
   "execution_count": null,
   "metadata": {},
   "outputs": [],
   "source": [
    "\n",
    "# drive.mount('/content/drive')\n",
    "\n",
    "# Set the directory containing the PDF files\n",
    "pdf_dir = '/Users/vamshi/Documents/GenAI/camelot2/content/pdf_files'\n",
    "\n",
    "# Create the output directory for CSV files\n",
    "csv_dir = '/Users/vamshi/Documents/GenAI/camelot2/content/csv_files'\n",
    "os.makedirs(csv_dir, exist_ok=True)\n",
    "\n",
    "# Process each PDF file in the directory\n",
    "pdf_files = [f for f in os.listdir(pdf_dir) if f.endswith('.pdf')]\n",
    "\n",
    "\n"
   ]
  },
  {
   "cell_type": "code",
   "execution_count": null,
   "metadata": {},
   "outputs": [],
   "source": [
    "import os\n",
    "\n",
    "# Iterate through each PDF file\n",
    "for pdf_file in pdf_files:\n",
    "    print(f\"Processing PDF file: {pdf_file}\")\n",
    "    pdf_path = os.path.join(pdf_dir, pdf_file)\n",
    "    tables = camelot.read_pdf(pdf_path, pages='all')\n",
    "    \n",
    "    # Create a DataFrame for the current PDF file\n",
    "    pdf_tables_df = pd.concat([table.df for table in tables])\n",
    "    \n",
    "    # Generate the CSV file name based on the PDF file name\n",
    "    csv_file_name = os.path.splitext(pdf_file)[0] + \".csv\"\n",
    "    csv_file_path = os.path.join(csv_dir, csv_file_name)\n",
    "    \n",
    "    # Export the DataFrame to a CSV file\n",
    "    pdf_tables_df.to_csv(csv_file_path, index=False)\n",
    "    print(f\"Exported tables from {pdf_file} to {csv_file_path}\")\n"
   ]
  },
  {
   "cell_type": "code",
   "execution_count": null,
   "metadata": {},
   "outputs": [],
   "source": [
    "# Step 2: Load CSV and Process with Langchain\n",
    "from langchain_community.document_loaders import DirectoryLoader\n",
    "from langchain.chains import RetrievalQA\n",
    "from langchain_community.llms import Ollama\n",
    "from langchain.text_splitter import RecursiveCharacterTextSplitter\n",
    "from langchain.embeddings import OllamaEmbeddings\n",
    "from langchain.vectorstores import Chroma\n",
    "\n"
   ]
  },
  {
   "cell_type": "code",
   "execution_count": null,
   "metadata": {},
   "outputs": [],
   "source": [
    "# Load documents from the csv_dir directory\n",
    "loader = DirectoryLoader(csv_dir)\n",
    "data = loader.load()\n",
    "\n"
   ]
  },
  {
   "cell_type": "code",
   "execution_count": null,
   "metadata": {},
   "outputs": [],
   "source": [
    "# Split the text into manageable chunks\n",
    "text_splitter = RecursiveCharacterTextSplitter(chunk_size=500, chunk_overlap=0)\n",
    "all_splits = text_splitter.split_documents(data)\n",
    "\n",
    "# Generate embeddings for the documents\n",
    "oembed = OllamaEmbeddings(base_url=\"http://localhost:11434\", model=\"nomic-embed-text\")\n",
    "vectorstore = Chroma.from_documents(documents=all_splits, embedding=oembed)\n",
    "\n"
   ]
  },
  {
   "cell_type": "code",
   "execution_count": null,
   "metadata": {},
   "outputs": [],
   "source": [
    "# Set up the LLM and QA chain\n",
    "llm = Ollama(base_url=\"http://localhost:11434/\", model=\"llama3\")\n",
    "qachain = RetrievalQA.from_chain_type(llm, retriever=vectorstore.as_retriever())\n",
    "\n"
   ]
  },
  {
   "cell_type": "code",
   "execution_count": null,
   "metadata": {},
   "outputs": [],
   "source": [
    "# Query the data\n",
    "question = \"\"\" Net Revenue  of ambuja cement \"\"\"\n",
    "response = qachain.invoke({\"query\": question})\n",
    "print(response)"
   ]
  },
  {
   "cell_type": "code",
   "execution_count": null,
   "metadata": {},
   "outputs": [],
   "source": []
  }
 ],
 "metadata": {
  "kernelspec": {
   "display_name": "camelot2",
   "language": "python",
   "name": "python3"
  },
  "language_info": {
   "codemirror_mode": {
    "name": "ipython",
    "version": 3
   },
   "file_extension": ".py",
   "mimetype": "text/x-python",
   "name": "python",
   "nbconvert_exporter": "python",
   "pygments_lexer": "ipython3",
   "version": "3.12.4"
  }
 },
 "nbformat": 4,
 "nbformat_minor": 2
}
